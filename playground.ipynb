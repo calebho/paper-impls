{
 "cells": [
  {
   "cell_type": "code",
   "execution_count": 1,
   "metadata": {},
   "outputs": [],
   "source": [
    "import matplotlib.pyplot as plt\n",
    "import numpy as np\n",
    "import torch\n",
    "\n",
    "from datasets import MyDataset, get_mnist\n",
    "from gan import GAN"
   ]
  },
  {
   "cell_type": "code",
   "execution_count": 2,
   "metadata": {
    "scrolled": true
   },
   "outputs": [],
   "source": [
    "dev = torch.device('cuda')\n",
    "train_data, _, _, _ = get_mnist()\n",
    "train_data /= 255"
   ]
  },
  {
   "cell_type": "code",
   "execution_count": 3,
   "metadata": {
    "scrolled": true
   },
   "outputs": [
    {
     "name": "stdout",
     "output_type": "stream",
     "text": [
      "epoch 0 -1097.8881046026945 -1114.2908845245838\n",
      "epoch 1 -1060.8367111384869 -986.7923061549664\n",
      "epoch 2 -797.020831823349 -1337.4065776467323\n",
      "epoch 3 -350.58886263892055 -2345.045496404171\n",
      "epoch 4 -76.14614192023873 -3892.0206631422043\n",
      "epoch 5 -20.209109249524772 -5128.851045846939\n",
      "epoch 6 -5.123250964097679 -6838.128726482391\n",
      "epoch 7 -0.5278400145471096 -8760.671272277832\n",
      "epoch 8 -8.743928201496601 -8057.464342355728\n",
      "epoch 9 -0.16436309646815062 -10014.166140556335\n",
      "epoch 10 -0.08284786343574524 -10476.036420822144\n",
      "epoch 11 -0.03481346555054188 -11439.0717086792\n",
      "epoch 12 -0.005141258239746094 -12449.372825622559\n",
      "epoch 13 -0.0018980540335178375 -13097.827089309692\n",
      "epoch 14 -1.0973160462453961 -10942.074739933014\n",
      "epoch 15 -0.03621111810207367 -11144.747685432434\n"
     ]
    }
   ],
   "source": [
    "# number = 7\n",
    "# train_numbers = train_data[train_labels == number]\n",
    "# number_labels = np.reshape(train_labels[train_labels == number], (-1, 1))\n",
    "data = MyDataset(train_data)\n",
    "m = GAN(device=dev)\n",
    "m.fit(data, epochs=16, verbose=True)"
   ]
  },
  {
   "cell_type": "code",
   "execution_count": 4,
   "metadata": {
    "scrolled": true
   },
   "outputs": [
    {
     "name": "stdout",
     "output_type": "stream",
     "text": [
      "(1, 28, 28)\n"
     ]
    },
    {
     "data": {
      "image/png": "[encoded data removed]",
      "text/plain": [
       "<Figure size 432x288 with 1 Axes>"
      ]
     },
     "metadata": {},
     "output_type": "display_data"
    }
   ],
   "source": [
    "num_gen = 1\n",
    "noise = torch.rand(num_gen, 256, device=dev)\n",
    "im = np.reshape(m.generate(noise).cpu().detach().numpy(), (-1, 28, 28))\n",
    "print(im.shape)\n",
    "for i in range(num_gen):\n",
    "    plt.imshow(im[i], cmap='gray')\n",
    "    plt.show()"
   ]
  },
  {
   "cell_type": "code",
   "execution_count": 26,
   "metadata": {},
   "outputs": [
    {
     "name": "stdout",
     "output_type": "stream",
     "text": [
      "tensor([[ 2.6457e-07,  1.0000e+00]], device='cuda:0')\n",
      "tensor([[ 1.0000e+00,  5.6503e-09]], device='cuda:0')\n",
      "tensor(0., device='cuda:0')\n",
      "tensor(-18.9916, device='cuda:0')\n"
     ]
    }
   ],
   "source": [
    "from gan import generator_loss\n",
    "\n",
    "noise2 = torch.rand(1, 256, device=dev)\n",
    "print(torch.exp(m.predict(m.generate(noise2))))\n",
    "print(torch.exp(m.predict(data[0:1].to(dev))))\n",
    "print(generator_loss(m.predict(m.generate(noise2))))\n",
    "print(generator_loss(m.predict(data[0:1].to(dev))))"
   ]
  },
  {
   "cell_type": "code",
   "execution_count": 36,
   "metadata": {},
   "outputs": [
    {
     "data": {
      "text/plain": [
       "1.0"
      ]
     },
     "execution_count": 36,
     "metadata": {},
     "output_type": "execute_result"
    }
   ],
   "source": [
    "np.max(train_data)"
   ]
  }
 ],
 "metadata": {
  "kernelspec": {
   "display_name": "paper-impls",
   "language": "python",
   "name": "paper-impls"
  },
  "language_info": {
   "codemirror_mode": {
    "name": "ipython",
    "version": 3
   },
   "file_extension": ".py",
   "mimetype": "text/x-python",
   "name": "python",
   "nbconvert_exporter": "python",
   "pygments_lexer": "ipython3",
   "version": "3.6.5"
  }
 },
 "nbformat": 4,
 "nbformat_minor": 2
}
